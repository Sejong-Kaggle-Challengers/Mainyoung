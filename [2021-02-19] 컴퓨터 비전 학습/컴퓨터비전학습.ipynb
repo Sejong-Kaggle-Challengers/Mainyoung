{
  "nbformat": 4,
  "nbformat_minor": 0,
  "metadata": {
    "colab": {
      "name": "컴퓨터비전학습.ipynb",
      "provenance": []
    },
    "kernelspec": {
      "name": "python3",
      "display_name": "Python 3"
    }
  },
  "cells": [
    {
      "cell_type": "code",
      "metadata": {
        "id": "kwHpR2IS3T1K"
      },
      "source": [
        "NOTEBOOKNAME = \"미녕컴퓨터비전학습\""
      ],
      "execution_count": 1,
      "outputs": []
    },
    {
      "cell_type": "code",
      "metadata": {
        "colab": {
          "base_uri": "https://localhost:8080/"
        },
        "id": "3HFzRQH4BbDv",
        "outputId": "355b7f33-1dae-4265-8ad3-1315e019fa9d"
      },
      "source": [
        "pip install tensorflow-addons"
      ],
      "execution_count": 4,
      "outputs": [
        {
          "output_type": "stream",
          "text": [
            "Collecting tensorflow-addons\n",
            "\u001b[?25l  Downloading https://files.pythonhosted.org/packages/2e/af/0ce633c373d2b0476ef8299673d22275fcc3c5ba283b2cec4aa06bc5b810/tensorflow_addons-0.12.1-cp36-cp36m-manylinux2010_x86_64.whl (703kB)\n",
            "\r\u001b[K     |▌                               | 10kB 16.4MB/s eta 0:00:01\r\u001b[K     |█                               | 20kB 10.5MB/s eta 0:00:01\r\u001b[K     |█▍                              | 30kB 7.2MB/s eta 0:00:01\r\u001b[K     |█▉                              | 40kB 6.5MB/s eta 0:00:01\r\u001b[K     |██▎                             | 51kB 4.4MB/s eta 0:00:01\r\u001b[K     |██▉                             | 61kB 4.7MB/s eta 0:00:01\r\u001b[K     |███▎                            | 71kB 5.1MB/s eta 0:00:01\r\u001b[K     |███▊                            | 81kB 5.0MB/s eta 0:00:01\r\u001b[K     |████▏                           | 92kB 5.1MB/s eta 0:00:01\r\u001b[K     |████▋                           | 102kB 4.3MB/s eta 0:00:01\r\u001b[K     |█████▏                          | 112kB 4.3MB/s eta 0:00:01\r\u001b[K     |█████▋                          | 122kB 4.3MB/s eta 0:00:01\r\u001b[K     |██████                          | 133kB 4.3MB/s eta 0:00:01\r\u001b[K     |██████▌                         | 143kB 4.3MB/s eta 0:00:01\r\u001b[K     |███████                         | 153kB 4.3MB/s eta 0:00:01\r\u001b[K     |███████▌                        | 163kB 4.3MB/s eta 0:00:01\r\u001b[K     |████████                        | 174kB 4.3MB/s eta 0:00:01\r\u001b[K     |████████▍                       | 184kB 4.3MB/s eta 0:00:01\r\u001b[K     |████████▉                       | 194kB 4.3MB/s eta 0:00:01\r\u001b[K     |█████████▎                      | 204kB 4.3MB/s eta 0:00:01\r\u001b[K     |█████████▉                      | 215kB 4.3MB/s eta 0:00:01\r\u001b[K     |██████████▎                     | 225kB 4.3MB/s eta 0:00:01\r\u001b[K     |██████████▊                     | 235kB 4.3MB/s eta 0:00:01\r\u001b[K     |███████████▏                    | 245kB 4.3MB/s eta 0:00:01\r\u001b[K     |███████████▋                    | 256kB 4.3MB/s eta 0:00:01\r\u001b[K     |████████████▏                   | 266kB 4.3MB/s eta 0:00:01\r\u001b[K     |████████████▋                   | 276kB 4.3MB/s eta 0:00:01\r\u001b[K     |█████████████                   | 286kB 4.3MB/s eta 0:00:01\r\u001b[K     |█████████████▌                  | 296kB 4.3MB/s eta 0:00:01\r\u001b[K     |██████████████                  | 307kB 4.3MB/s eta 0:00:01\r\u001b[K     |██████████████▍                 | 317kB 4.3MB/s eta 0:00:01\r\u001b[K     |███████████████                 | 327kB 4.3MB/s eta 0:00:01\r\u001b[K     |███████████████▍                | 337kB 4.3MB/s eta 0:00:01\r\u001b[K     |███████████████▉                | 348kB 4.3MB/s eta 0:00:01\r\u001b[K     |████████████████▎               | 358kB 4.3MB/s eta 0:00:01\r\u001b[K     |████████████████▊               | 368kB 4.3MB/s eta 0:00:01\r\u001b[K     |█████████████████▎              | 378kB 4.3MB/s eta 0:00:01\r\u001b[K     |█████████████████▊              | 389kB 4.3MB/s eta 0:00:01\r\u001b[K     |██████████████████▏             | 399kB 4.3MB/s eta 0:00:01\r\u001b[K     |██████████████████▋             | 409kB 4.3MB/s eta 0:00:01\r\u001b[K     |███████████████████             | 419kB 4.3MB/s eta 0:00:01\r\u001b[K     |███████████████████▋            | 430kB 4.3MB/s eta 0:00:01\r\u001b[K     |████████████████████            | 440kB 4.3MB/s eta 0:00:01\r\u001b[K     |████████████████████▌           | 450kB 4.3MB/s eta 0:00:01\r\u001b[K     |█████████████████████           | 460kB 4.3MB/s eta 0:00:01\r\u001b[K     |█████████████████████▍          | 471kB 4.3MB/s eta 0:00:01\r\u001b[K     |██████████████████████          | 481kB 4.3MB/s eta 0:00:01\r\u001b[K     |██████████████████████▍         | 491kB 4.3MB/s eta 0:00:01\r\u001b[K     |██████████████████████▉         | 501kB 4.3MB/s eta 0:00:01\r\u001b[K     |███████████████████████▎        | 512kB 4.3MB/s eta 0:00:01\r\u001b[K     |███████████████████████▊        | 522kB 4.3MB/s eta 0:00:01\r\u001b[K     |████████████████████████▎       | 532kB 4.3MB/s eta 0:00:01\r\u001b[K     |████████████████████████▊       | 542kB 4.3MB/s eta 0:00:01\r\u001b[K     |█████████████████████████▏      | 552kB 4.3MB/s eta 0:00:01\r\u001b[K     |█████████████████████████▋      | 563kB 4.3MB/s eta 0:00:01\r\u001b[K     |██████████████████████████      | 573kB 4.3MB/s eta 0:00:01\r\u001b[K     |██████████████████████████▋     | 583kB 4.3MB/s eta 0:00:01\r\u001b[K     |███████████████████████████     | 593kB 4.3MB/s eta 0:00:01\r\u001b[K     |███████████████████████████▌    | 604kB 4.3MB/s eta 0:00:01\r\u001b[K     |████████████████████████████    | 614kB 4.3MB/s eta 0:00:01\r\u001b[K     |████████████████████████████▍   | 624kB 4.3MB/s eta 0:00:01\r\u001b[K     |████████████████████████████▉   | 634kB 4.3MB/s eta 0:00:01\r\u001b[K     |█████████████████████████████▍  | 645kB 4.3MB/s eta 0:00:01\r\u001b[K     |█████████████████████████████▉  | 655kB 4.3MB/s eta 0:00:01\r\u001b[K     |██████████████████████████████▎ | 665kB 4.3MB/s eta 0:00:01\r\u001b[K     |██████████████████████████████▊ | 675kB 4.3MB/s eta 0:00:01\r\u001b[K     |███████████████████████████████▏| 686kB 4.3MB/s eta 0:00:01\r\u001b[K     |███████████████████████████████▊| 696kB 4.3MB/s eta 0:00:01\r\u001b[K     |████████████████████████████████| 706kB 4.3MB/s \n",
            "\u001b[?25hRequirement already satisfied: typeguard>=2.7 in /usr/local/lib/python3.6/dist-packages (from tensorflow-addons) (2.7.1)\n",
            "Installing collected packages: tensorflow-addons\n",
            "Successfully installed tensorflow-addons-0.12.1\n"
          ],
          "name": "stdout"
        }
      ]
    },
    {
      "cell_type": "code",
      "metadata": {
        "colab": {
          "base_uri": "https://localhost:8080/"
        },
        "id": "Fq3WTPmY4VYo",
        "outputId": "b058f4f7-0b5e-4102-fa2f-fd88fbb39585"
      },
      "source": [
        "import tensorflow as tf\r\n",
        "import tensorflow_addons as tfa\r\n",
        "import tensorflow_datasets as tfds\r\n",
        "\r\n",
        "print(f\"tf.__version__: {tf.__version__}\")\r\n",
        "print(f\"tfa.__version__: {tfa.__version__}\")\r\n",
        "print(f\"tfds.__version__: {tfds.__version__}\")"
      ],
      "execution_count": 5,
      "outputs": [
        {
          "output_type": "stream",
          "text": [
            "tf.__version__: 2.4.1\n",
            "tfa.__version__: 0.12.1\n",
            "tfds.__version__: 4.0.1\n"
          ],
          "name": "stdout"
        }
      ]
    },
    {
      "cell_type": "code",
      "metadata": {
        "colab": {
          "base_uri": "https://localhost:8080/"
        },
        "id": "vgKDXcnB4XjE",
        "outputId": "8248d9a7-82ff-4b62-ef1c-4e89316f57c3"
      },
      "source": [
        "from google.colab import auth, drive\r\n",
        "from IPython.display import clear_output\r\n",
        "\r\n",
        "try:\r\n",
        "    drive.mount(\"/content/drive\")\r\n",
        "    auth.authenticate_user()\r\n",
        "    clear_output()\r\n",
        "    print(\"Done\")\r\n",
        "except:\r\n",
        "    pass"
      ],
      "execution_count": 6,
      "outputs": [
        {
          "output_type": "stream",
          "text": [
            "Done\n"
          ],
          "name": "stdout"
        }
      ]
    },
    {
      "cell_type": "markdown",
      "metadata": {
        "id": "0HjSWzgH4aHL"
      },
      "source": [
        "Experimental Environment\r\n",
        "Google Colab Pro의 구성 환경입니다. 대략 아래와 같은 항목들이 사용되었음을 확인할 수 있습니다.\r\n",
        "\r\n",
        "OS: Linux-4.19.112+-x86_64-with-Ubuntu-18.04-bionic\r\n",
        "GPU: Tesla V100-SXM2-16GB\r\n",
        "CPU: Intel(R) Xeon(R) CPU @ 2.00GHz\r\n",
        "Memory: 25G\r\n",
        "This is the configuration environment of Google Colab Pro. You can see that roughly the following items have been used.\r\n",
        "\r\n",
        "OS: Linux-4.19.112+-x86_64-with-Ubuntu-18.04-bionic\r\n",
        "GPU: Tesla V100-SXM2-16GB\r\n",
        "CPU: Intel(R) Xeon(R) CPU @ 2.00GHz\r\n",
        "Memory: 25G"
      ]
    },
    {
      "cell_type": "code",
      "metadata": {
        "colab": {
          "base_uri": "https://localhost:8080/"
        },
        "id": "bfSfAWP84Xg9",
        "outputId": "03690535-1298-4bb0-e9b3-20c07958ceaf"
      },
      "source": [
        "# Memory\r\n",
        "!free -h"
      ],
      "execution_count": 7,
      "outputs": [
        {
          "output_type": "stream",
          "text": [
            "              total        used        free      shared  buff/cache   available\n",
            "Mem:            12G        700M        9.9G        988K        2.1G         11G\n",
            "Swap:            0B          0B          0B\n"
          ],
          "name": "stdout"
        }
      ]
    },
    {
      "cell_type": "code",
      "metadata": {
        "colab": {
          "base_uri": "https://localhost:8080/"
        },
        "id": "tSk8BEBu4XeC",
        "outputId": "ffafddcb-514e-4fff-f218-a579d9dab40b"
      },
      "source": [
        "# GPU\r\n",
        "!nvidia-smi"
      ],
      "execution_count": 8,
      "outputs": [
        {
          "output_type": "stream",
          "text": [
            "NVIDIA-SMI has failed because it couldn't communicate with the NVIDIA driver. Make sure that the latest NVIDIA driver is installed and running.\n",
            "\n"
          ],
          "name": "stdout"
        }
      ]
    },
    {
      "cell_type": "code",
      "metadata": {
        "colab": {
          "base_uri": "https://localhost:8080/"
        },
        "id": "6eoL02gJ4XbK",
        "outputId": "0d420794-0d0c-4a4d-d746-26e25b8c7953"
      },
      "source": [
        "from tensorflow.python.client import device_lib\r\n",
        "print(device_lib.list_local_devices())"
      ],
      "execution_count": 9,
      "outputs": [
        {
          "output_type": "stream",
          "text": [
            "[name: \"/device:CPU:0\"\n",
            "device_type: \"CPU\"\n",
            "memory_limit: 268435456\n",
            "locality {\n",
            "}\n",
            "incarnation: 4826630742861852696\n",
            "]\n"
          ],
          "name": "stdout"
        }
      ]
    },
    {
      "cell_type": "code",
      "metadata": {
        "colab": {
          "base_uri": "https://localhost:8080/",
          "height": 35
        },
        "id": "D5sy7MR14XYq",
        "outputId": "a8dcafb1-502e-43f1-9c84-77e62d12acec"
      },
      "source": [
        "# OS\r\n",
        "import platform\r\n",
        "platform.platform()"
      ],
      "execution_count": 10,
      "outputs": [
        {
          "output_type": "execute_result",
          "data": {
            "application/vnd.google.colaboratory.intrinsic+json": {
              "type": "string"
            },
            "text/plain": [
              "'Linux-4.19.112+-x86_64-with-Ubuntu-18.04-bionic'"
            ]
          },
          "metadata": {
            "tags": []
          },
          "execution_count": 10
        }
      ]
    },
    {
      "cell_type": "code",
      "metadata": {
        "colab": {
          "base_uri": "https://localhost:8080/"
        },
        "id": "INptgN124XUA",
        "outputId": "80b4be89-3180-4055-9c9c-b0dde02cf8ea"
      },
      "source": [
        "!df -h"
      ],
      "execution_count": 11,
      "outputs": [
        {
          "output_type": "stream",
          "text": [
            "Filesystem      Size  Used Avail Use% Mounted on\n",
            "overlay         108G   33G   76G  30% /\n",
            "tmpfs            64M     0   64M   0% /dev\n",
            "tmpfs           6.4G     0  6.4G   0% /sys/fs/cgroup\n",
            "shm             5.9G     0  5.9G   0% /dev/shm\n",
            "tmpfs           6.4G   24K  6.4G   1% /var/colab\n",
            "/dev/sda1       114G   34G   81G  30% /etc/hosts\n",
            "tmpfs           6.4G     0  6.4G   0% /proc/acpi\n",
            "tmpfs           6.4G     0  6.4G   0% /proc/scsi\n",
            "tmpfs           6.4G     0  6.4G   0% /sys/firmware\n",
            "drive            15G  8.6G  6.5G  57% /content/drive\n"
          ],
          "name": "stdout"
        }
      ]
    },
    {
      "cell_type": "code",
      "metadata": {
        "colab": {
          "base_uri": "https://localhost:8080/"
        },
        "id": "RTtkuhuN4XK-",
        "outputId": "9f251aec-ea39-4f93-f71d-f3569dfc7d46"
      },
      "source": [
        "!cat /proc/cpuinfo"
      ],
      "execution_count": 12,
      "outputs": [
        {
          "output_type": "stream",
          "text": [
            "processor\t: 0\n",
            "vendor_id\t: GenuineIntel\n",
            "cpu family\t: 6\n",
            "model\t\t: 63\n",
            "model name\t: Intel(R) Xeon(R) CPU @ 2.30GHz\n",
            "stepping\t: 0\n",
            "microcode\t: 0x1\n",
            "cpu MHz\t\t: 2299.998\n",
            "cache size\t: 46080 KB\n",
            "physical id\t: 0\n",
            "siblings\t: 2\n",
            "core id\t\t: 0\n",
            "cpu cores\t: 1\n",
            "apicid\t\t: 0\n",
            "initial apicid\t: 0\n",
            "fpu\t\t: yes\n",
            "fpu_exception\t: yes\n",
            "cpuid level\t: 13\n",
            "wp\t\t: yes\n",
            "flags\t\t: fpu vme de pse tsc msr pae mce cx8 apic sep mtrr pge mca cmov pat pse36 clflush mmx fxsr sse sse2 ss ht syscall nx pdpe1gb rdtscp lm constant_tsc rep_good nopl xtopology nonstop_tsc cpuid tsc_known_freq pni pclmulqdq ssse3 fma cx16 pcid sse4_1 sse4_2 x2apic movbe popcnt aes xsave avx f16c rdrand hypervisor lahf_lm abm invpcid_single ssbd ibrs ibpb stibp fsgsbase tsc_adjust bmi1 avx2 smep bmi2 erms invpcid xsaveopt arat md_clear arch_capabilities\n",
            "bugs\t\t: cpu_meltdown spectre_v1 spectre_v2 spec_store_bypass l1tf mds swapgs\n",
            "bogomips\t: 4599.99\n",
            "clflush size\t: 64\n",
            "cache_alignment\t: 64\n",
            "address sizes\t: 46 bits physical, 48 bits virtual\n",
            "power management:\n",
            "\n",
            "processor\t: 1\n",
            "vendor_id\t: GenuineIntel\n",
            "cpu family\t: 6\n",
            "model\t\t: 63\n",
            "model name\t: Intel(R) Xeon(R) CPU @ 2.30GHz\n",
            "stepping\t: 0\n",
            "microcode\t: 0x1\n",
            "cpu MHz\t\t: 2299.998\n",
            "cache size\t: 46080 KB\n",
            "physical id\t: 0\n",
            "siblings\t: 2\n",
            "core id\t\t: 0\n",
            "cpu cores\t: 1\n",
            "apicid\t\t: 1\n",
            "initial apicid\t: 1\n",
            "fpu\t\t: yes\n",
            "fpu_exception\t: yes\n",
            "cpuid level\t: 13\n",
            "wp\t\t: yes\n",
            "flags\t\t: fpu vme de pse tsc msr pae mce cx8 apic sep mtrr pge mca cmov pat pse36 clflush mmx fxsr sse sse2 ss ht syscall nx pdpe1gb rdtscp lm constant_tsc rep_good nopl xtopology nonstop_tsc cpuid tsc_known_freq pni pclmulqdq ssse3 fma cx16 pcid sse4_1 sse4_2 x2apic movbe popcnt aes xsave avx f16c rdrand hypervisor lahf_lm abm invpcid_single ssbd ibrs ibpb stibp fsgsbase tsc_adjust bmi1 avx2 smep bmi2 erms invpcid xsaveopt arat md_clear arch_capabilities\n",
            "bugs\t\t: cpu_meltdown spectre_v1 spectre_v2 spec_store_bypass l1tf mds swapgs\n",
            "bogomips\t: 4599.99\n",
            "clflush size\t: 64\n",
            "cache_alignment\t: 64\n",
            "address sizes\t: 46 bits physical, 48 bits virtual\n",
            "power management:\n",
            "\n"
          ],
          "name": "stdout"
        }
      ]
    },
    {
      "cell_type": "markdown",
      "metadata": {
        "id": "jS7y1EFm4j-a"
      },
      "source": [
        "Load Dataset\r\n",
        "데이터 세트를 Google Drive에서 Local(Colab 환경)로 가져옵니다.\r\n",
        "\r\n",
        "Import the dataset from Google Drive to Local (Colab environment)."
      ]
    },
    {
      "cell_type": "code",
      "metadata": {
        "colab": {
          "base_uri": "https://localhost:8080/"
        },
        "id": "Er6p1JDC4XId",
        "outputId": "09a67854-450d-4890-b18d-4b4877b7ce94"
      },
      "source": [
        "%%time\r\n",
        "import os\r\n",
        "\r\n",
        "# mkdir\r\n",
        "save_data_path = \"./data\"\r\n",
        "if not os.path.exists(save_data_path): \r\n",
        "    os.mkdir(save_data_path)\r\n",
        "\r\n",
        "# copy train_answer.csv\r\n",
        "!cp \"/content/drive/MyDrive/캐글스터디/컴퓨터 비전학습/train.csv\" \"/content/drive/MyDrive/캐글스터디/컴퓨터 비전학습/data\"\r\n",
        "!cp \"/content/drive/MyDrive/캐글스터디/컴퓨터 비전학습/test.csv\" \"/content/drive/MyDrive/캐글스터디/컴퓨터 비전학습/data\""
      ],
      "execution_count": 18,
      "outputs": [
        {
          "output_type": "stream",
          "text": [
            "CPU times: user 3.85 ms, sys: 21.6 ms, total: 25.5 ms\n",
            "Wall time: 443 ms\n"
          ],
          "name": "stdout"
        }
      ]
    },
    {
      "cell_type": "code",
      "metadata": {
        "colab": {
          "base_uri": "https://localhost:8080/"
        },
        "id": "INqsCGJY4XFq",
        "outputId": "9c51d2f9-48df-4066-c5a0-698e21c3cd09"
      },
      "source": [
        "ls -al \"/content/drive/MyDrive/캐글스터디/컴퓨터 비전학습/data\""
      ],
      "execution_count": 19,
      "outputs": [
        {
          "output_type": "stream",
          "text": [
            "total 42955\n",
            "-rw------- 1 root root 39981059 Feb 17 12:51 test.csv\n",
            "-rw------- 1 root root  4004157 Feb 17 12:51 train.csv\n"
          ],
          "name": "stdout"
        }
      ]
    },
    {
      "cell_type": "markdown",
      "metadata": {
        "id": "U1a0fWFI4nsp"
      },
      "source": [
        "#Generate Dataset\r\n",
        "데이터 세트를 Train / Validation으로 분할합니다.\r\n",
        "\r\n",
        "신경망의 주입값으로 사용하기 위한 적절한 전처리 과정들이 나열되어 있습니다.\r\n",
        "\r\n",
        "Split the dataset into Train / Validation.\r\n",
        "\r\n",
        "Appropriate preprocessing procedures for use as neural network injection values are listed.\r\n",
        "\r\n",
        "train dataset을 생성하되, SEED를 기반으로 섞어줍니다.\r\n",
        "\r\n",
        "Create a train dataset, but mix it based on SEED."
      ]
    },
    {
      "cell_type": "code",
      "metadata": {
        "id": "B5JISM2q4XC-"
      },
      "source": [
        "import pandas as pd\r\n",
        "from sklearn.utils import shuffle\r\n",
        "\r\n",
        "def get_tr_data(SEED):    \r\n",
        "    tr_data = pd.read_csv(\"/content/drive/MyDrive/캐글스터디/컴퓨터 비전학습/data/train.csv\", index_col = 0).values # index_col설정,후 value로 값을 가지고옴\r\n",
        "    tr_data = shuffle(tr_data, random_state = SEED)\r\n",
        "\r\n",
        "    tr_X = tf.convert_to_tensor(tr_data[:, 2:], dtype = tf.float32) # convert_to_tensor를 활용하여 텐서로 바꿔줌\r\n",
        "    tr_Y = tf.squeeze(tf.convert_to_tensor(tr_data[:, 0], dtype = tf.int32))#tf.squeeze는 차원 중 사이즈가 1인 것을 찾아서 제거한다 ex)(2,2,1) -> (2,2)\r\n",
        "#('https://m.blog.naver.com/PostView.nhn?blogId=wideeyed&logNo=221164750517&proxyReferer=https:%2F%2Fwww.google.com%2F')\r\n",
        "    return tr_X, tr_Y\r\n",
        "\r\n",
        "\r\n",
        "def get_ts_data():\r\n",
        "    ts_data = pd.read_csv(\"/content/drive/MyDrive/캐글스터디/컴퓨터 비전학습/data/test.csv\", index_col = 0).values\r\n",
        "    ts_X = tf.convert_to_tensor(ts_data[:, 1:], dtype = tf.float32)\r\n",
        "\r\n",
        "    return ts_X"
      ],
      "execution_count": 20,
      "outputs": []
    },
    {
      "cell_type": "markdown",
      "metadata": {
        "id": "tbseKdtc4q7o"
      },
      "source": [
        "(784) 사이즈의 flatten tensor를 (28, 28) 사이즈의 이미지로 변환한 뒤, (256, 256) 사이즈로 upsampling 합니다.\r\n",
        "\r\n",
        "이후 값을 구간 [0, 1]로 맞추는 Normalize를 진행하여 줍니다.\r\n",
        "\r\n",
        "아래 정의된 두 함수의 차이는 단순히 label의 유무입니다.\r\n",
        "\r\n",
        "Convert a flatten tensor of (784) size to an image of (28, 28) size, and then upsamp it to size (256, 256).\r\n",
        "\r\n",
        "After that, normalize the value to the interval [0, 1].\r\n",
        "\r\n",
        "The difference between the two functions defined below is simply the presence or absence of a label."
      ]
    },
    {
      "cell_type": "code",
      "metadata": {
        "id": "xtPb-GlW4W_S"
      },
      "source": [
        "IMAGE_SIZE = [28, 28]\r\n",
        "RESIZED_IMAGE_SIZE = [256, 256]\r\n",
        "\r\n",
        "@tf.function\r\n",
        "def _reshape_and_resize_tr(flatten_tensor, label):\r\n",
        "    image_tensor = tf.reshape(flatten_tensor, (*IMAGE_SIZE, 1))\r\n",
        "    image_tensor = tf.keras.layers.experimental.preprocessing.Resizing(*RESIZED_IMAGE_SIZE)(image_tensor)\r\n",
        "    image_tensor = tf.keras.layers.experimental.preprocessing.Rescaling(1./255)(image_tensor)\r\n",
        "    return image_tensor, label\r\n",
        "\r\n",
        "\r\n",
        "@tf.function\r\n",
        "def _reshape_and_resize_ts(flatten_tensor): # without label\r\n",
        "    image_tensor = tf.reshape(flatten_tensor, (*IMAGE_SIZE, 1))\r\n",
        "    image_tensor = tf.keras.layers.experimental.preprocessing.Resizing(*RESIZED_IMAGE_SIZE)(image_tensor)\r\n",
        "    image_tensor = tf.keras.layers.experimental.preprocessing.Rescaling(1./255)(image_tensor)\r\n",
        "    return image_tensor"
      ],
      "execution_count": 15,
      "outputs": []
    },
    {
      "cell_type": "markdown",
      "metadata": {
        "id": "HT_J1PC84uD0"
      },
      "source": [
        "make_dataset() 함수는 단순히 type에 따라 적절한 데이터 세트를 생성하는 기능을 수행합니다.\r\n",
        "\r\n",
        "make_fold() 함수는 5개의 dataset으로 이루어진 tr_datasets, vl_datasets를 반환합니다.\r\n",
        "\r\n",
        "The make_dataset() function simply performs the function of creating an appropriate data set according to the type.\r\n",
        "\r\n",
        "The make_fold() function returns tr_datasets and vl_datasets consisting of 5 datasets."
      ]
    },
    {
      "cell_type": "code",
      "metadata": {
        "id": "kNnU4W7C4W89"
      },
      "source": [
        "AUTO = tf.data.experimental.AUTOTUNE\r\n",
        "BATCH_SIZE = 64\r\n",
        "\r\n",
        "def print_shapes(l, l_name, end = False):\r\n",
        "    assert type(l) is list\r\n",
        "\r\n",
        "    print(f\"len({l_name}) = {len(l)}\")\r\n",
        "    for i in range(len(l)):\r\n",
        "        print(f\"{l_name}[{i}]: {l[i]}\")\r\n",
        "    if not end:\r\n",
        "        print()\r\n",
        "    \r\n",
        "\r\n",
        "def make_dataset(X, Y, type):\r\n",
        "    if type == \"train\":\r\n",
        "        assert X.shape[0] == Y.shape[0]\r\n",
        "        dataset = tf.data.Dataset.from_tensor_slices((X, Y)\r\n",
        "                            ).map(_reshape_and_resize_tr, num_parallel_calls = AUTO #apply같은 인자\r\n",
        "                            ).cache(#똑같은 파일을 생성하는 인자/ 근데 왜사용했을까? 사용하지도 않을꺼면서 ;_;\r\n",
        "                            ).shuffle(20000, reshuffle_each_iteration = True\r\n",
        "                            ).batch(BATCH_SIZE\r\n",
        "                            ).prefetch(AUTO)   \r\n",
        "\r\n",
        "    elif type == \"validation\":\r\n",
        "        assert X.shape[0] == Y.shape[0]\r\n",
        "        dataset = tf.data.Dataset.from_tensor_slices((X, Y)\r\n",
        "                            ).map(_reshape_and_resize_tr, num_parallel_calls = AUTO\r\n",
        "                            ).cache(\r\n",
        "                            # ).shuffle(20000, reshuffle_each_iteration = True\r\n",
        "                            ).batch(BATCH_SIZE\r\n",
        "                            ).prefetch(AUTO)\r\n",
        "\r\n",
        "    elif type == \"test\":\r\n",
        "        assert Y is None\r\n",
        "        dataset = tf.data.Dataset.from_tensor_slices((X)\r\n",
        "                            ).map(_reshape_and_resize_ts, num_parallel_calls = AUTO\r\n",
        "                            ).cache(\r\n",
        "                            # ).shuffle(20000, reshuffle_each_iteration = True\r\n",
        "                            ).batch(BATCH_SIZE\r\n",
        "                            ).prefetch(AUTO)\r\n",
        "                            \r\n",
        "    else:\r\n",
        "        raise ValueError(f\"Unknown type: {type}\")\r\n",
        "\r\n",
        "    return dataset\r\n",
        "\r\n",
        "\r\n",
        "def make_fold(X, Y, K = 5):\r\n",
        "    assert X.shape[0] == Y.shape[0]\r\n",
        "    assert len(list(Y.shape)) == 1\r\n",
        "\r\n",
        "    fold_size = [X.shape[0] // K] * (K - 1) + [X.shape[0] - (X.shape[0] // K) * (K - 1)]\r\n",
        "\r\n",
        "    splited_X = tf.split(X, fold_size, 0) # list\r\n",
        "    splited_Y = tf.split(Y, fold_size, 0) # list\r\n",
        "\r\n",
        "    tr_list = [(tf.concat(splited_X[:i] + splited_X[i+1:], axis = 0), tf.concat(splited_Y[:i] + splited_Y[i+1:], axis = 0)) for i in range(K)]\r\n",
        "    vl_list = [(splited_X[i], splited_Y[i]) for i in range(K)]\r\n",
        "\r\n",
        "    tr_datasets = [make_dataset(tr_X, tr_Y, \"train\") for tr_X, tr_Y in tr_list]\r\n",
        "    vl_datasets = [make_dataset(vl_X, vl_Y, \"validation\") for vl_X, vl_Y in vl_list]\r\n",
        "\r\n",
        "    return tr_datasets, vl_datasets"
      ],
      "execution_count": 16,
      "outputs": []
    },
    {
      "cell_type": "markdown",
      "metadata": {
        "id": "Z7jhrQ4K4w2A"
      },
      "source": [
        "#Show Examples\r\n",
        "Upsampling 및 Augmentation 간 사용한 매개변수의 근거가 되는 라인입니다.\r\n",
        "\r\n",
        "This is the line on which the parameters used between Upsampling and Augmentation are based.\r\n",
        "\r\n",
        "(28, 28) 사이즈의 원본 이미지를 (64, 64), (128, 128), (256, 256) 사이즈로 해상도를 높였을 때 에러없이 잘 수행되는지 확인합니다.\r\n",
        "\r\n",
        "눈으로 보았을 때 이상이 없으므로, (256, 256) 사이즈로 해상도를 높여도 문제가 없을 것 같습니다.\r\n",
        "\r\n",
        "When the resolution of the original image of (28, 28) size is increased to (64, 64), (128, 128), (256, 256) size, check that it performs well without error.\r\n",
        "\r\n",
        "There is nothing wrong with the eyes, so there seems to be no problem even if you increase the resolution to (256, 256) size.\r\n",
        "\r\n"
      ]
    },
    {
      "cell_type": "code",
      "metadata": {
        "colab": {
          "base_uri": "https://localhost:8080/"
        },
        "id": "JIRQ3NcZ4W4O",
        "outputId": "8610ba77-98ea-4e2c-9eea-a6a6c58c95ec"
      },
      "source": [
        "# tr_data = pd.read_csv(\"/content/drive/MyDrive/캐글스터디/컴퓨터 비전학습/data/train.csv\", index_col = 0).values\r\n",
        "# # tr_data = shuffle(tr_data, random_state = SEED)\r\n",
        "\r\n",
        "# tr_X = tf.convert_to_tensor(tr_data[:, 2:], dtype = tf.float32)\r\n",
        "# tr_Y = tf.squeeze(tf.convert_to_tensor(tr_data[:, 0], dtype = tf.int32))\r\n",
        "# # 왜 get_tr_data함수 만들어 놓고 안쓰냐?\r\n",
        "get_tr_data(48)"
      ],
      "execution_count": 22,
      "outputs": [
        {
          "output_type": "execute_result",
          "data": {
            "text/plain": [
              "(<tf.Tensor: shape=(2048, 784), dtype=float32, numpy=\n",
              " array([[3., 3., 4., ..., 0., 2., 1.],\n",
              "        [4., 3., 3., ..., 4., 0., 0.],\n",
              "        [0., 0., 3., ..., 0., 0., 1.],\n",
              "        ...,\n",
              "        [1., 2., 0., ..., 2., 1., 1.],\n",
              "        [2., 2., 2., ..., 0., 1., 3.],\n",
              "        [3., 1., 2., ..., 0., 4., 1.]], dtype=float32)>,\n",
              " <tf.Tensor: shape=(2048,), dtype=int32, numpy=array([1, 7, 1, ..., 3, 5, 2], dtype=int32)>)"
            ]
          },
          "metadata": {
            "tags": []
          },
          "execution_count": 22
        }
      ]
    },
    {
      "cell_type": "code",
      "metadata": {
        "id": "9iy7-Us04W1q"
      },
      "source": [
        "aa = tf.reshape(tr_X[318], (28, 28, 1))\r\n",
        "result1 = tf.keras.layers.experimental.preprocessing.Resizing(64, 64)(aa)\r\n",
        "result2 = tf.keras.layers.experimental.preprocessing.Resizing(128, 128)(aa)\r\n",
        "result3 = tf.keras.layers.experimental.preprocessing.Resizing(256, 256)(aa)\r\n",
        "\r\n",
        "answer = tr_Y[318]"
      ],
      "execution_count": 23,
      "outputs": []
    },
    {
      "cell_type": "code",
      "metadata": {
        "colab": {
          "base_uri": "https://localhost:8080/",
          "height": 283
        },
        "id": "szaPgdpQ4Wy0",
        "outputId": "a4a48e42-12bd-4bd5-8fc8-817ecf26e8ac"
      },
      "source": [
        "from matplotlib import pyplot as plt\r\n",
        "\r\n",
        "plt.figure(figsize = (12, 4), dpi = 80)\r\n",
        "\r\n",
        "for i, img in enumerate([aa, result1, result2, result3]):\r\n",
        "    plt.subplot(1, 4, i + 1)\r\n",
        "    plt.imshow(tf.squeeze(img), cmap = \"jet\")\r\n",
        "    plt.title(f\"{answer} / {tf.squeeze(img).shape}\")\r\n",
        "    \r\n",
        "plt.tight_layout()\r\n",
        "plt.show()\r\n",
        "print(answer)"
      ],
      "execution_count": 25,
      "outputs": [
        {
          "output_type": "display_data",
          "data": {
            "image/png": "[encoded data removed]",
            "text/plain": [
              "<Figure size 960x320 with 4 Axes>"
            ]
          },
          "metadata": {
            "tags": [],
            "needs_background": "light"
          }
        },
        {
          "output_type": "stream",
          "text": [
            "tf.Tensor(4, shape=(), dtype=int32)\n"
          ],
          "name": "stdout"
        }
      ]
    },
    {
      "cell_type": "markdown",
      "metadata": {
        "id": "dqT14Qsd411s"
      },
      "source": [
        "저는 데이터 증식은 무작정 데이터의 수를 늘리기만 해서는 되는것이 아니라, 해당 데이터가 갖는 중요한 정보를 잃지 않는 것이 가장 중요하다고 생각했습니다.\r\n",
        "\r\n",
        "따라서 전체 데이터를 더해주었을 때, 그 값이 높은 부분(적색 부분)이 최대한 손상되지 않는 범위에서 zooming, shifting 및 rotating 등의 작업을 수행하는 것이 바람직한 접근방법일 것입니다.  (위의 사진에 숨겨져 있는 숫자는 4) 따라서 빨간 부분을 해치지 않고 데이터의 양을 늘려야함)\r\n",
        "\r\n",
        "\r\n",
        "I thought that data proliferation is not just about increasing the number of data randomly, it is most important not to lose the important information that the data has.\r\n",
        "\r\n",
        "Therefore, when the entire data is added, it would be a good approach to perform operations such as zooming, shifting, and rotating in a range that does not damage the part with the high value (red part) as much as possible.\r\n",
        "\r\n",
        "먼저 training dataset을 다 더해준 값을 확인해줍니다.\r\n",
        "\r\n",
        "First, check the added value of the training dataset."
      ]
    },
    {
      "cell_type": "code",
      "metadata": {
        "id": "LvSgxCLO4WwJ"
      },
      "source": [
        "aa = tf.reshape(tr_X, (-1, 28, 28, 1)) # reshape에서 -1을 넣은 자리는 나머지를 모두 할당하고 남는 수를 알아서 채워줌\r\n",
        "result1 = tf.keras.layers.experimental.preprocessing.Resizing(64, 64)(aa)\r\n",
        "result2 = tf.keras.layers.experimental.preprocessing.Resizing(128, 128)(aa)\r\n",
        "result3 = tf.keras.layers.experimental.preprocessing.Resizing(256, 256)(aa)"
      ],
      "execution_count": 26,
      "outputs": []
    },
    {
      "cell_type": "code",
      "metadata": {
        "colab": {
          "base_uri": "https://localhost:8080/",
          "height": 252
        },
        "id": "OqaQEr1Y4WtC",
        "outputId": "4c2b1984-0bb8-44ce-91d7-022633bbd10d"
      },
      "source": [
        "plt.figure(figsize = (12, 4), dpi = 80)\r\n",
        "\r\n",
        "for i, img in enumerate([aa, result1, result2, result3]):\r\n",
        "    \r\n",
        "    plt.subplot(1, 4, i + 1)\r\n",
        "    plt.imshow(tf.squeeze(tf.math.reduce_sum(img, axis = 0)), cmap = \"jet\")\r\n",
        "    # plt.title(f\"{answer} / {tf.squeeze(img).shape}\")\r\n",
        "    \r\n",
        "plt.tight_layout()\r\n",
        "plt.show()"
      ],
      "execution_count": 27,
      "outputs": [
        {
          "output_type": "display_data",
          "data": {
            "image/png": "[encoded data removed]",
            "text/plain": [
              "<Figure size 960x320 with 4 Axes>"
            ]
          },
          "metadata": {
            "tags": [],
            "needs_background": "light"
          }
        }
      ]
    },
    {
      "cell_type": "code",
      "metadata": {
        "id": "oAFh0NGd4WqQ"
      },
      "source": [
        "ts_data = pd.read_csv(\"/content/drive/MyDrive/캐글스터디/컴퓨터 비전학습/data/test.csv\", index_col = 0).values\r\n",
        "ts_X = tf.convert_to_tensor(ts_data[:, 1:], dtype = tf.float32)"
      ],
      "execution_count": 28,
      "outputs": []
    },
    {
      "cell_type": "code",
      "metadata": {
        "id": "UpajsQJU4Wnh"
      },
      "source": [
        "aa = tf.reshape(ts_X, (-1, 28, 28, 1))\r\n",
        "result1 = tf.keras.layers.experimental.preprocessing.Resizing(64, 64)(aa)\r\n",
        "result2 = tf.keras.layers.experimental.preprocessing.Resizing(128, 128)(aa)\r\n",
        "result3 = tf.keras.layers.experimental.preprocessing.Resizing(256, 256)(aa)\r\n",
        "\r\n",
        "# answer = tr_Y"
      ],
      "execution_count": 29,
      "outputs": []
    },
    {
      "cell_type": "code",
      "metadata": {
        "colab": {
          "base_uri": "https://localhost:8080/",
          "height": 252
        },
        "id": "yk4TeoPH4WiM",
        "outputId": "cdce2d56-68d4-4e39-d9bc-e89855b9af61"
      },
      "source": [
        "plt.figure(figsize = (12, 4), dpi = 80)\r\n",
        "\r\n",
        "for i, img in enumerate([aa, result1, result2, result3]):\r\n",
        "    \r\n",
        "    plt.subplot(1, 4, i + 1)\r\n",
        "    plt.imshow(tf.squeeze(tf.math.reduce_sum(img, axis = 0)), cmap = \"jet\")\r\n",
        "    # plt.title(f\"{answer} / {tf.squeeze(img).shape}\")\r\n",
        "    \r\n",
        "plt.tight_layout()\r\n",
        "plt.show()"
      ],
      "execution_count": 30,
      "outputs": [
        {
          "output_type": "display_data",
          "data": {
            "image/png": "[encoded data removed]",
            "text/plain": [
              "<Figure size 960x320 with 4 Axes>"
            ]
          },
          "metadata": {
            "tags": [],
            "needs_background": "light"
          }
        }
      ]
    },
    {
      "cell_type": "markdown",
      "metadata": {
        "id": "-c69mYsPMpXG"
      },
      "source": [
        "저는 데이터 증식에는 회전 및 확대/축소만 수행했습니다.\r\n",
        "\r\n",
        "위의 실험 결과에 따라, 확대 범위는 매우 낮은 값인 0.1로 설정하게 되었습니다.\r\n",
        "\r\n",
        "I only rotated and zoomed in data growth.\r\n",
        "\r\n",
        "Based on the above experiment results, the magnification range was set to a very low value of 0.1.\r\n"
      ]
    },
    {
      "cell_type": "markdown",
      "metadata": {
        "id": "k1gj_5WX4-FA"
      },
      "source": [
        "\r\n",
        "#Build Model\r\n",
        "신경망 구성 단계입니다.\r\n",
        "\r\n",
        "직접 구현한 DenseNet-121 구조를 사용했으며, SpatialDropout 및 InceptionV3에서 사용되는 auxiliary output를 추가했습니다.\r\n",
        "\r\n",
        "Auxiliary output으로부터 auxiliary loss가 생성되며, 이는 0.2의 가중치가 곱해져서 최종 loss에 가산됩니다.\r\n",
        "\r\n",
        "테스트 단계에서는 해당 output이 사용되지 않습니다.\r\n",
        "\r\n",
        "신경망 1개당 약 8.3M 개의 파라미터를 가집니다.\r\n",
        "\r\n",
        "Neural network construction step.\r\n",
        "\r\n",
        "I used the DenseNet-121 structure I implemented myself, and added auxiliary outputs used by SpatialDropout and InceptionV3.\r\n",
        "\r\n",
        "An auxiliary loss is created from the auxiliary output, which is multiplied by a weight of 0.2 and added to the final loss.\r\n",
        "\r\n",
        "The output is not used during the test phase.\r\n",
        "\r\n",
        "Each neural network has about 8.3M parameters.\r\n",
        "\r\n",
        "다른 유저분들과는 다르게, 저는 Softmax + Categorical Crossentropy 구조를 사용하지 않았습니다.\r\n",
        "\r\n",
        "대신 activation function이 없는 dense를 거친 output을 L2 정규화하여 내보낸 뒤, Triplet Semi-Hard Loss Function을 이용하여 손실을 계산했습니다.\r\n",
        "\r\n",
        "Triplet Loss Function은 3개의 feature를 비교하는 방식으로, anchor(기준 특징값)와 positive class (같은 클래스의 특징값) 사이의 거리는 가깝게 매핑합니다. 이와 동시에, anchor와 negative class (다른 클래스의 특징값) 사이의 거리는 멀게 매핑합니다.\r\n",
        "\r\n",
        "Image에 대한 Embedding 기법이라고 생각하시면 좋을 것 같습니다.\r\n",
        "\r\n",
        "해당 손실함수에 대한 추가적인 내용은 아래를 참고하여 주시기 바랍니다.\r\n",
        "\r\n",
        "https://www.tensorflow.org/addons/tutorials/losses_triplet\r\n",
        "https://arxiv.org/pdf/1503.03832.pdf\r\n",
        "https://jsideas.net/ImageEmbeddingWithTripletLoss/\r\n",
        "Unlike other users, I did not use the Softmax + Categorical Crossentropy structure.\r\n",
        "\r\n",
        "Instead, the dense output without the activation function was normalized by L2 and exported, and then the loss was calculated using the Triplet Semi-Hard Loss Function.\r\n",
        "\r\n",
        "Triplet Loss Function is a method of comparing three features, and the distance between anchor (reference feature value) and positive class (feature value of the same class) is closely mapped. At the same time, the distance between the anchor and the negative class (a feature value of another class) is mapped further.\r\n",
        "\r\n",
        "It would be nice to think of it as an embedding technique for an image.\r\n",
        "\r\n",
        "For more information on the loss function, please refer to the following.\r\n",
        "\r\n",
        "https://www.tensorflow.org/addons/tutorials/losses_triplet\r\n",
        "https://arxiv.org/pdf/1503.03832.pdf\r\n",
        "https://jsideas.net/ImageEmbeddingWithTripletLoss/\r\n",
        "해당 손실함수와 auxiliary loss를 사용할 경우, 손실 그래프는 대략 아래와 같이 표현됩니다.\r\n",
        "\r\n",
        "When using the corresponding loss function and auxiliary loss, the loss graph is roughly expressed as follows."
      ]
    },
    {
      "cell_type": "code",
      "metadata": {
        "id": "FrjnWY-W4WYO"
      },
      "source": [
        "img1 = plt.imread('./123.png')\r\n",
        "\r\n",
        "plt.figure(figsize=(12,12))\r\n",
        "plt.imshow(img1)\r\n",
        "plt.show()"
      ],
      "execution_count": null,
      "outputs": []
    },
    {
      "cell_type": "markdown",
      "metadata": {
        "id": "Bf-utd5C5Fpd"
      },
      "source": [
        "특별히 해당 loss를 사용하는 이유는, 성능이 좋을 것을 확신해서가 아닙니다.\r\n",
        "\r\n",
        "단지 기존에 주류를 이루는 방법과는 다른 저만의 방식으로도 충분히 좋은 성과를 낼 수 있음을 입증하기 위한 새로운 시도였습니다.\r\n",
        "\r\n",
        "The reason for using this loss in particular is not because you are sure it will perform well.\r\n",
        "\r\n",
        "It was just a new attempt to prove that I could do well enough in my own way, which is different from the existing mainstream methods."
      ]
    },
    {
      "cell_type": "code",
      "metadata": {
        "id": "mqbPPzGX49pm"
      },
      "source": [
        "def bn_ReLU_conv2D(x, filters, kernel_size, \r\n",
        "                   strides = 1, padding = \"same\", weight_decay = 1e-4):\r\n",
        "    x = tf.keras.layers.BatchNormalization()(x)\r\n",
        "    x = tf.keras.layers.ReLU()(x)\r\n",
        "    x = tf.keras.layers.Conv2D(\r\n",
        "        filters = filters, \r\n",
        "        kernel_size = kernel_size, \r\n",
        "        strides = strides,\r\n",
        "        padding = padding,\r\n",
        "        kernel_regularizer = tf.keras.regularizers.l2(weight_decay))(x)\r\n",
        "    \r\n",
        "    return x\r\n",
        "\r\n",
        "\r\n",
        "def transition_block(x):\r\n",
        "    x = tf.keras.layers.BatchNormalization()(x)\r\n",
        "    x = tf.keras.layers.Conv2D(x.shape[-1] // 2, 1, padding = \"same\")(x)\r\n",
        "    x = tf.keras.layers.AveragePooling2D((2, 2), strides = 2)(x)\r\n",
        "\r\n",
        "    return x\r\n",
        "\r\n",
        "\r\n",
        "def dense_block(x, num_conv, growth_rate):\r\n",
        "    for i in range(num_conv):\r\n",
        "        residual = x\r\n",
        "        x = bn_ReLU_conv2D(x, 4 * growth_rate, 1)\r\n",
        "        x = bn_ReLU_conv2D(x, growth_rate, 3)\r\n",
        "        x = tf.keras.layers.Concatenate(axis = -1)([x, residual])\r\n",
        "\r\n",
        "    return x"
      ],
      "execution_count": null,
      "outputs": []
    },
    {
      "cell_type": "code",
      "metadata": {
        "id": "seNrUoQj49kR"
      },
      "source": [
        "def create_NN(model_name, dropout_rate = 0.3, growth_rate = 32):\r\n",
        "    model_input = tf.keras.layers.Input((*RESIZED_IMAGE_SIZE, 1))\r\n",
        "\r\n",
        "    ## Pre-processing\r\n",
        "    x = tf.keras.layers.experimental.preprocessing.RandomZoom((-0.2, 0.1), (-0.2, 0.1), fill_mode = \"constant\")(model_input)\r\n",
        "    x = tf.keras.layers.experimental.preprocessing.RandomRotation(0.1, fill_mode = \"constant\")(x)\r\n",
        "\r\n",
        "    ## Entry Flow\r\n",
        "    x = tf.keras.layers.Conv2D(2 * growth_rate, 7, strides = 2, padding = \"same\")(x)\r\n",
        "    x = tf.keras.layers.MaxPooling2D((3, 3), strides = 2, padding = \"same\")(x)\r\n",
        "\r\n",
        "\r\n",
        "    ## Middle Flow\r\n",
        "    aux_outputs = []\r\n",
        "    for i, num_conv in enumerate([6, 12, 24, 16]):\r\n",
        "        x = dense_block(x, num_conv, growth_rate)\r\n",
        "\r\n",
        "        if i is not 3: \r\n",
        "            x = transition_block(x)\r\n",
        "            x = tf.keras.layers.SpatialDropout2D(dropout_rate)(x)\r\n",
        "\r\n",
        "        if i == 2:\r\n",
        "            y = tf.keras.layers.GlobalAveragePooling2D()(x)\r\n",
        "            y = tf.keras.layers.Dense(y.shape[-1])(y)\r\n",
        "            y = tf.keras.layers.Lambda(lambda y: tf.math.l2_normalize(y, axis = 1), name = \"aux\")(y) # L2 normalize embeddings\r\n",
        "            aux_outputs.append(y)\r\n",
        "\r\n",
        "\r\n",
        "    ## Exit Flow\r\n",
        "    x = tf.keras.layers.GlobalAveragePooling2D()(x)\r\n",
        "    x = tf.keras.layers.Dense(x.shape[-1])(x)\r\n",
        "    real_output = tf.keras.layers.Lambda(lambda x: tf.math.l2_normalize(x, axis = 1), name = \"real\")(x) # L2 normalize embeddings\r\n",
        "\r\n",
        "    model = tf.keras.Model(\r\n",
        "        inputs = model_input,\r\n",
        "        outputs = aux_outputs + [real_output],\r\n",
        "        name = model_name)\r\n",
        "    \r\n",
        "    return model"
      ],
      "execution_count": null,
      "outputs": []
    },
    {
      "cell_type": "code",
      "metadata": {
        "id": "dll_kj7649hp"
      },
      "source": [
        "tmp_model = create_NN(\"tmp_model\")\r\n",
        "tmp_model.summary()"
      ],
      "execution_count": null,
      "outputs": []
    },
    {
      "cell_type": "code",
      "metadata": {
        "id": "d0pgVAsk49fa"
      },
      "source": [
        "tf.keras.utils.plot_model(tmp_model, show_shapes = True, show_layer_names = False)"
      ],
      "execution_count": null,
      "outputs": []
    },
    {
      "cell_type": "code",
      "metadata": {
        "id": "MJB48_0n49cX"
      },
      "source": [
        "del tmp_model"
      ],
      "execution_count": null,
      "outputs": []
    },
    {
      "cell_type": "markdown",
      "metadata": {
        "id": "pmHwjSLG5NIo"
      },
      "source": [
        "#Compile and Train\r\n",
        "매번 새로운 옵티마이저, 콜백 함수를 호출하기 위해서 함수로 구현한 부분입니다.\r\n",
        "\r\n",
        "This is the part implemented as a function to call a new optimizer and callback function every time.\r\n",
        "\r\n",
        "optimizer 함수는 Rectified Adam을 사용했으며, Lookahead Wrapper를 추가해주었습니다.\r\n",
        "\r\n",
        "특별히 Lookahead Wrapper는 \"월간 데이콘 5: 생체 광학 데이터 분석 AI 경진대회\"에서 1위를 수상하신 SF 님께서도 사용하셨기 때문에, 관심을 갖고 찾아보고 실험하였습니다.\r\n",
        "\r\n",
        "https://dacon.io/competitions/official/235608/codeshare/1274?page=2&dtype=recent&ptype=pub\r\n",
        "Rectified Adam was used as the optimizer function, and a Lookahead Wrapper was added.\r\n",
        "\r\n",
        "In particular, Lookahead Wrapper was used by SF, who won first place in the \"Monthly Daycon 5: Bio-Optical Data Analysis AI Contest\", so we looked up and experimented with interest.\r\n",
        "\r\n",
        "https://dacon.io/competitions/official/235608/codeshare/1274?page=2&dtype=recent&ptype=pub\r\n",
        "Droout Rate, Growth Rate, Optimizer는 각각 0.3, 32, Rectified Adam을 사용하였으며, 해당 근거는 아래 표와 같습니다.\r\n",
        "\r\n",
        "Droout Rate, Growth Rate, and Optimizer used 0.3, 32, and Rectified Adam, respectively, and the basis for this is shown in the table below.\r\n",
        "\r\n",
        "(growth_rate == 40일 경우는 ResourceExhauseError 때문에 수행하지 못했습니다.)\r\n",
        "\r\n",
        "(In case of growth_rate == 40, it could not be executed because of ResourceExhauseError.)\r\n",
        "\r\n",
        "Dropout = 0.3\r\n",
        "growth_rate\toptimizer\tval_loss\r\n",
        "12\tAdam\t0.38935\r\n",
        "12\tAdamW\t0.34652\r\n",
        "12\tRectified Adam\t0.35595\r\n",
        "12\tRMSprop\t0.55919\r\n",
        "24\tAdam\t0.37023\r\n",
        "24\tAdamW\t0.36667\r\n",
        "24\tRectified Adam\t0.31322\r\n",
        "24\tRMSprop\t0.46081\r\n",
        "32\tAdam\t0.46318\r\n",
        "32\tAdamW\t0.31881\r\n",
        "32\tRectified Adam\t0.31315\r\n",
        "32\tRMSprop\t0.43235\r\n",
        "Dropout = 0.4\r\n",
        "growth_rate\toptimizer\tval_loss\r\n",
        "12\tAdam\t0.35099\r\n",
        "12\tAdamW\t0.45077\r\n",
        "12\tRectified Adam\t0.37492\r\n",
        "12\tRMSprop\t0.46896\r\n",
        "24\tAdam\t0.45740\r\n",
        "24\tAdamW\t0.34025\r\n",
        "24\tRectified Adam\t0.31850\r\n",
        "24\tRMSprop\t0.43569\r\n",
        "32\tAdam\t0.43407\r\n",
        "32\tAdamW\t0.33302\r\n",
        "32\tRectified Adam\t0.33354\r\n",
        "32\tRMSprop\t0.44503\r\n",
        "Dropout = 0.5\r\n",
        "growth_rate\toptimizer\tval_loss\r\n",
        "12\tAdam\t0.51993\r\n",
        "12\tAdamW\t0.49499\r\n",
        "12\tRectified Adam\t0.39148\r\n",
        "12\tRMSprop\t0.62542\r\n",
        "24\tAdam\t0.43550\r\n",
        "24\tAdamW\t0.36983\r\n",
        "24\tRectified Adam\t0.31850\r\n",
        "24\tRMSprop\t0.58344\r\n",
        "32\tAdam\t0.40553\r\n",
        "32\tAdamW\t0.41680\r\n",
        "32\tRectified Adam\t0.37814\r\n",
        "32\tRMSprop\t0.51033\r\n",
        "가장 성능이 좋았던 모델은, (dropout_rate, growth_rate, optimizer)가 (0.3, 32, Rectified Adam)일 경우였으며, 해당 인자를 그대로 사용했습니다.\r\n",
        "\r\n",
        "The model with the best performance was when (dropout_rate, growth_rate, optimizer) was (0.3, 32, Rectified Adam), and the parameters were used as they were."
      ]
    },
    {
      "cell_type": "code",
      "metadata": {
        "id": "_GzdUgIf49Z4"
      },
      "source": [
        "def get_opt(init_lr = 3e-3):\r\n",
        "    radam = tfa.optimizers.RectifiedAdam(\r\n",
        "        lr = init_lr, warmup_proportion = 0, min_lr = 1e-5, weight_decay = 1e-4)\r\n",
        "    ranger = tfa.optimizers.Lookahead(radam)\r\n",
        "\r\n",
        "    return ranger"
      ],
      "execution_count": null,
      "outputs": []
    },
    {
      "cell_type": "markdown",
      "metadata": {
        "id": "x2aU1HrK5UZh"
      },
      "source": [
        "Colab의 최대 Runtime은 12시간이므로, 모든 fold에서 생성된 checkpoint는 google cloud platform에 저장됩니다.\r\n",
        "\r\n",
        "Colab's maximum runtime is 12 hours, so checkpoints created in every fold are stored in google cloud platform."
      ]
    },
    {
      "cell_type": "code",
      "metadata": {
        "id": "P6WynH2349XQ"
      },
      "source": [
        "# Define callbacks\r\n",
        "def scheduler(epoch, lr):\r\n",
        "    # lr = 0.96 * lr for every 4 epochs\r\n",
        "    if not epoch:\r\n",
        "        return lr\r\n",
        "    elif not (epoch % 4):\r\n",
        "        return 0.96 * lr\r\n",
        "    else:\r\n",
        "        return lr\r\n",
        "\r\n",
        "\r\n",
        "def get_callbacks(GCS_PATH, model_name):\r\n",
        "    # reduce learning rate callback\r\n",
        "    lr_callback = tf.keras.callbacks.LearningRateScheduler(scheduler)\r\n",
        "\r\n",
        "    # checkpoint callback\r\n",
        "    checkpoint_path = os.path.join(\r\n",
        "        GCS_PATH, \"ckpt\", NOTEBOOKNAME, model_name, \"cp-{epoch:03d}-{val_real_loss:.4f}.ckpt\")\r\n",
        "\r\n",
        "    cp_callback = tf.keras.callbacks.ModelCheckpoint(\r\n",
        "        checkpoint_path, verbose = 2, monitor = \"val_real_loss\",\r\n",
        "        save_weights_only = True, save_best_only = True)\r\n",
        "\r\n",
        "    return [lr_callback, cp_callback]"
      ],
      "execution_count": null,
      "outputs": []
    },
    {
      "cell_type": "code",
      "metadata": {
        "id": "6qiLzWsR49Uo"
      },
      "source": [
        "from matplotlib import pyplot as plt\r\n",
        "%matplotlib inline\r\n",
        "\r\n",
        "def draw_history(history):\r\n",
        "    plt.figure(figsize = (8, 6), facecolor = \"white\", dpi = 80)\r\n",
        "\r\n",
        "    plt.plot(history.epoch, history.history[\"aux_loss\"], \"rx-\", label = \"aux_loss\", alpha = 0.5)\r\n",
        "    plt.plot(history.epoch, history.history[\"val_aux_loss\"], \"bx-\", label = \"val_aux_loss\", alpha = 0.5)\r\n",
        "    plt.plot(history.epoch, history.history[\"real_loss\"], \"ro-\", label = \"real_loss\")\r\n",
        "    plt.plot(history.epoch, history.history[\"val_real_loss\"], \"bo-\", label = \"val_real_loss\")\r\n",
        "\r\n",
        "    plt.xlabel(\"epochs\")\r\n",
        "    plt.ylabel(\"loss\")\r\n",
        "    plt.legend()\r\n",
        "    plt.grid(True)\r\n",
        "\r\n",
        "    plt.tight_layout()\r\n",
        "    plt.show()"
      ],
      "execution_count": null,
      "outputs": []
    },
    {
      "cell_type": "markdown",
      "metadata": {
        "id": "rU0ocMRl5Yma"
      },
      "source": [
        "5-Fold Cross Validation을 수행하되, SEED에 따라 dataset을 섞음으로써 매번 다른 train / validation 쌍이 나올 수 있도록 합니다.\r\n",
        "\r\n",
        "총 5번 반복하였으므로, 25개의 sub-model이 생성됩니다.\r\n",
        "\r\n",
        "코드 실행결과는 너무 길어서 생략하였습니다.\r\n",
        "\r\n",
        "Perform 5-Fold Cross Validation, but mix the dataset according to SEED so that different train/validation pairs can appear each time.\r\n",
        "\r\n",
        "Since it was repeated 5 times, 25 sub-models are created.\r\n",
        "\r\n",
        "The code execution result was too long to be omitted.\r\n",
        "\r\n",
        "Try 0: N = 0, SEED = 1234"
      ]
    },
    {
      "cell_type": "code",
      "metadata": {
        "id": "82PjTL7M49Sn"
      },
      "source": [
        "tr_X, tr_Y = get_tr_data(SEED = 1234)\r\n",
        "\r\n",
        "print(f\"tr_X.shape: {tr_X.shape}, dtype: {tr_X.dtype}\")\r\n",
        "print(f\"tr_Y.shape: {tr_Y.shape}, dtype: {tr_Y.dtype}\")"
      ],
      "execution_count": null,
      "outputs": []
    },
    {
      "cell_type": "code",
      "metadata": {
        "id": "wjiS5gFx5amP"
      },
      "source": [
        "tr_datasets, vl_datasets = make_fold(tr_X, tr_Y)\r\n",
        "\r\n",
        "# Print the shapes.\r\n",
        "print_shapes(tr_datasets, \"tr_datasets\")\r\n",
        "print_shapes(vl_datasets, \"vl_datasets\", end = True)"
      ],
      "execution_count": null,
      "outputs": []
    },
    {
      "cell_type": "code",
      "metadata": {
        "id": "rj3KCRv25a8y"
      },
      "source": [
        "N = 0\r\n",
        "K = 5\r\n",
        "GCS_PATH = \"gs://dacon-7-emnist\"\r\n",
        "\r\n",
        "histories = []\r\n",
        "for fold in range(K):\r\n",
        "    model = create_NN(f\"model_{N}_{fold}\")\r\n",
        "\r\n",
        "    model.compile(\r\n",
        "        optimizer = get_opt(),\r\n",
        "        loss = tfa.losses.TripletSemiHardLoss(),\r\n",
        "        loss_weights = [0.2, 1.0])\r\n",
        "    \r\n",
        "    history = model.fit(\r\n",
        "        tr_datasets[fold], validation_data = vl_datasets[fold], epochs = 400, verbose = 2,\r\n",
        "        callbacks = get_callbacks(GCS_PATH, model.name))\r\n",
        "\r\n",
        "    histories.append(history)\r\n",
        "    \r\n",
        "    del model"
      ],
      "execution_count": null,
      "outputs": []
    },
    {
      "cell_type": "code",
      "metadata": {
        "id": "mlCjHy1C5a6m"
      },
      "source": [
        "draw_history(histories)"
      ],
      "execution_count": null,
      "outputs": []
    },
    {
      "cell_type": "markdown",
      "metadata": {
        "id": "791s6VMO5iyV"
      },
      "source": [
        "Try 1: N = 1, SEED = 2345"
      ]
    },
    {
      "cell_type": "code",
      "metadata": {
        "id": "begRc5xR5a4U"
      },
      "source": [
        "tr_X, tr_Y = get_tr_data(SEED = 2345)\r\n",
        "\r\n",
        "print(f\"tr_X.shape: {tr_X.shape}, dtype: {tr_X.dtype}\")\r\n",
        "print(f\"tr_Y.shape: {tr_Y.shape}, dtype: {tr_Y.dtype}\")"
      ],
      "execution_count": null,
      "outputs": []
    },
    {
      "cell_type": "code",
      "metadata": {
        "id": "6YXITxZH5a2Z"
      },
      "source": [
        "tr_datasets, vl_datasets = make_fold(tr_X, tr_Y)\r\n",
        "\r\n",
        "# Print the shapes.\r\n",
        "print_shapes(tr_datasets, \"tr_datasets\")\r\n",
        "print_shapes(vl_datasets, \"vl_datasets\", end = True)"
      ],
      "execution_count": null,
      "outputs": []
    },
    {
      "cell_type": "code",
      "metadata": {
        "id": "_eEomZWR5ao3"
      },
      "source": [
        "N = 1\r\n",
        "K = 5\r\n",
        "GCS_PATH = \"gs://dacon-7-emnist\"\r\n",
        "\r\n",
        "histories = []\r\n",
        "for fold in range(K):\r\n",
        "    model = create_NN(f\"model_{N}_{fold}\")\r\n",
        "\r\n",
        "    model.compile(\r\n",
        "        optimizer = get_opt(),\r\n",
        "        loss = tfa.losses.TripletSemiHardLoss(),\r\n",
        "        loss_weights = [0.2, 1.0])\r\n",
        "    \r\n",
        "    history = model.fit(\r\n",
        "        tr_datasets[fold], validation_data = vl_datasets[fold], epochs = 400, verbose = 2,\r\n",
        "        callbacks = get_callbacks(GCS_PATH, model.name))\r\n",
        "\r\n",
        "    histories.append(history)\r\n",
        "    \r\n",
        "    del model"
      ],
      "execution_count": null,
      "outputs": []
    },
    {
      "cell_type": "code",
      "metadata": {
        "id": "XRvLsVbP49Pc"
      },
      "source": [
        "draw_history(histories)"
      ],
      "execution_count": null,
      "outputs": []
    },
    {
      "cell_type": "markdown",
      "metadata": {
        "id": "h-Dxwmex5oFA"
      },
      "source": [
        "Try 2: N = 2, SEED = 3456"
      ]
    },
    {
      "cell_type": "code",
      "metadata": {
        "id": "ZjTYatVo5j9n"
      },
      "source": [
        "tr_X, tr_Y = get_tr_data(SEED = 3456)\r\n",
        "\r\n",
        "print(f\"tr_X.shape: {tr_X.shape}, dtype: {tr_X.dtype}\")\r\n",
        "print(f\"tr_Y.shape: {tr_Y.shape}, dtype: {tr_Y.dtype}\")"
      ],
      "execution_count": null,
      "outputs": []
    },
    {
      "cell_type": "code",
      "metadata": {
        "id": "qyFWj8H95j8C"
      },
      "source": [
        "tr_datasets, vl_datasets = make_fold(tr_X, tr_Y)\r\n",
        "\r\n",
        "# Print the shapes.\r\n",
        "print_shapes(tr_datasets, \"tr_datasets\")\r\n",
        "print_shapes(vl_datasets, \"vl_datasets\", end = True)"
      ],
      "execution_count": null,
      "outputs": []
    },
    {
      "cell_type": "code",
      "metadata": {
        "id": "tDwAunEp5j5G"
      },
      "source": [
        "N = 2\r\n",
        "K = 5\r\n",
        "GCS_PATH = \"gs://dacon-7-emnist\"\r\n",
        "\r\n",
        "histories = []\r\n",
        "for fold in range(K):\r\n",
        "    model = create_NN(f\"model_{N}_{fold}\")\r\n",
        "\r\n",
        "    model.compile(\r\n",
        "        optimizer = get_opt(),\r\n",
        "        loss = tfa.losses.TripletSemiHardLoss(),\r\n",
        "        loss_weights = [0.2, 1.0])\r\n",
        "    \r\n",
        "    history = model.fit(\r\n",
        "        tr_datasets[fold], validation_data = vl_datasets[fold], epochs = 400, verbose = 2,\r\n",
        "        callbacks = get_callbacks(GCS_PATH, model.name))\r\n",
        "\r\n",
        "    histories.append(history)\r\n",
        "    \r\n",
        "    del model"
      ],
      "execution_count": null,
      "outputs": []
    },
    {
      "cell_type": "code",
      "metadata": {
        "id": "7Srie-Ug5j21"
      },
      "source": [
        "draw_history(histories)"
      ],
      "execution_count": null,
      "outputs": []
    },
    {
      "cell_type": "markdown",
      "metadata": {
        "id": "OzgJgZRR5tfI"
      },
      "source": [
        "Try 3: N = 3, SEED = 4567"
      ]
    },
    {
      "cell_type": "code",
      "metadata": {
        "id": "DxgI-EFb5j0Q"
      },
      "source": [
        "tr_X, tr_Y = get_tr_data(SEED = 4567)\r\n",
        "\r\n",
        "print(f\"tr_X.shape: {tr_X.shape}, dtype: {tr_X.dtype}\")\r\n",
        "print(f\"tr_Y.shape: {tr_Y.shape}, dtype: {tr_Y.dtype}\")"
      ],
      "execution_count": null,
      "outputs": []
    },
    {
      "cell_type": "code",
      "metadata": {
        "id": "-QQwH5Nc5jxn"
      },
      "source": [
        "tr_datasets, vl_datasets = make_fold(tr_X, tr_Y)\r\n",
        "\r\n",
        "# Print the shapes.\r\n",
        "print_shapes(tr_datasets, \"tr_datasets\")\r\n",
        "print_shapes(vl_datasets, \"vl_datasets\", end = True)"
      ],
      "execution_count": null,
      "outputs": []
    },
    {
      "cell_type": "code",
      "metadata": {
        "id": "HA_MBko15jvQ"
      },
      "source": [
        "N = 3\r\n",
        "K = 5\r\n",
        "GCS_PATH = \"gs://dacon-7-emnist\"\r\n",
        "\r\n",
        "histories = []\r\n",
        "for fold in range(K):\r\n",
        "    model = create_NN(f\"model_{N}_{fold}\")\r\n",
        "\r\n",
        "    model.compile(\r\n",
        "        optimizer = get_opt(),\r\n",
        "        loss = tfa.losses.TripletSemiHardLoss(),\r\n",
        "        loss_weights = [0.2, 1.0])\r\n",
        "    \r\n",
        "    history = model.fit(\r\n",
        "        tr_datasets[fold], validation_data = vl_datasets[fold], epochs = 400, verbose = 2,\r\n",
        "        callbacks = get_callbacks(GCS_PATH, model.name))\r\n",
        "\r\n",
        "    histories.append(history)\r\n",
        "    \r\n",
        "    del model"
      ],
      "execution_count": null,
      "outputs": []
    },
    {
      "cell_type": "code",
      "metadata": {
        "id": "UUZ6AfOE49NE"
      },
      "source": [
        "for history in histories:\r\n",
        "    draw_history(history)"
      ],
      "execution_count": null,
      "outputs": []
    },
    {
      "cell_type": "markdown",
      "metadata": {
        "id": "gs__jJMf51EQ"
      },
      "source": [
        "Try 4: N = 4, SEED = 5678"
      ]
    },
    {
      "cell_type": "code",
      "metadata": {
        "id": "eecE2Bgc505O"
      },
      "source": [
        "tr_X, tr_Y = get_tr_data(SEED = 5678)\r\n",
        "\r\n",
        "print(f\"tr_X.shape: {tr_X.shape}, dtype: {tr_X.dtype}\")\r\n",
        "print(f\"tr_Y.shape: {tr_Y.shape}, dtype: {tr_Y.dtype}\")"
      ],
      "execution_count": null,
      "outputs": []
    },
    {
      "cell_type": "code",
      "metadata": {
        "id": "4ZmmqRRZ5020"
      },
      "source": [
        "tr_datasets, vl_datasets = make_fold(tr_X, tr_Y)\r\n",
        "\r\n",
        "# Print the shapes.\r\n",
        "print_shapes(tr_datasets, \"tr_datasets\")\r\n",
        "print_shapes(vl_datasets, \"vl_datasets\", end = True)"
      ],
      "execution_count": null,
      "outputs": []
    },
    {
      "cell_type": "code",
      "metadata": {
        "id": "3znzsh6K500E"
      },
      "source": [
        "N = 4\r\n",
        "K = 5\r\n",
        "GCS_PATH = \"gs://dacon-7-emnist\"\r\n",
        "\r\n",
        "histories = []\r\n",
        "for fold in range(K):\r\n",
        "    model = create_NN(f\"model_{N}_{fold}\")\r\n",
        "\r\n",
        "    model.compile(\r\n",
        "        optimizer = get_opt(),\r\n",
        "        loss = tfa.losses.TripletSemiHardLoss(),\r\n",
        "        loss_weights = [0.2, 1.0])\r\n",
        "    \r\n",
        "    history = model.fit(\r\n",
        "        tr_datasets[fold], validation_data = vl_datasets[fold], epochs = 400, verbose = 2,\r\n",
        "        callbacks = get_callbacks(GCS_PATH, model.name))\r\n",
        "\r\n",
        "    histories.append(history)\r\n",
        "    \r\n",
        "    del model"
      ],
      "execution_count": null,
      "outputs": []
    },
    {
      "cell_type": "code",
      "metadata": {
        "id": "s1J9q5vZ50xl"
      },
      "source": [
        "for history in histories:\r\n",
        "    draw_history(history)"
      ],
      "execution_count": null,
      "outputs": []
    },
    {
      "cell_type": "markdown",
      "metadata": {
        "id": "L3lPLbBI5718"
      },
      "source": [
        "Load Latest Models\r\n",
        "생성된 25개의 sub-model을 호출합니다.\r\n",
        "\r\n",
        "Call the created 25 sub-models."
      ]
    },
    {
      "cell_type": "markdown",
      "metadata": {
        "id": "zzahgV1V595i"
      },
      "source": [
        ""
      ]
    },
    {
      "cell_type": "code",
      "metadata": {
        "id": "PkEq-Cqb50uz"
      },
      "source": [
        "%%time\r\n",
        "num_N = 5\r\n",
        "K = 5\r\n",
        "GCS_PATH = \"gs://dacon-7-emnist\"\r\n",
        "\r\n",
        "models = []\r\n",
        "\r\n",
        "for n in range(num_N):\r\n",
        "    for fold in range(K):\r\n",
        "        model = create_NN(f\"model_{n}_{fold}\")\r\n",
        "\r\n",
        "        checkpoint_dir = os.path.join(GCS_PATH, \"ckpt\", NOTEBOOKNAME, model.name)\r\n",
        "        latest = tf.train.latest_checkpoint(checkpoint_dir)\r\n",
        "\r\n",
        "        model.load_weights(latest)\r\n",
        "        models.append(model)\r\n",
        "        \r\n",
        "        print(f\"Try #{n}, Fold #{fold}: {latest}\")"
      ],
      "execution_count": null,
      "outputs": []
    },
    {
      "cell_type": "markdown",
      "metadata": {
        "id": "vgojNNmP6AIO"
      },
      "source": [
        "Generate Enrollment Templates\r\n",
        "각 신경망에 대한 validation dataset의 output을 산출합니다.\r\n",
        "\r\n",
        "해당 결괏값들의 클래스별 평균이 곧 해당 클래스를 대표하는 \"대표값(enrollment template)\"이 됩니다.\r\n",
        "\r\n",
        "앞서 모델 생성 간, auxiliary output을 추가하였다고 말씀드렸습니다. 실제로 모델 output을 받을 경우에는, 길이 512짜리 aux output과 1024짜리 real output이 리스트(list)에 담겨서 나옵니다. 우리가 원하는 값은 real output이므로, 2번째 값만 사용합니다.\r\n",
        "\r\n",
        "Calculate the output of the validation dataset for each neural network.\r\n",
        "\r\n",
        "The average of the result values by class becomes the \"enrollment template\" representing the class.\r\n",
        "\r\n",
        "I mentioned earlier that during model creation, auxiliary outputs were added. In case of receiving model output, aux output of length 512 and real output of 1024 are included in the list. The value we want is a real output, so we only use the second value."
      ]
    },
    {
      "cell_type": "code",
      "metadata": {
        "id": "GZsXuYTk50rr"
      },
      "source": [
        "# Example Code\r\n",
        "tr_X, tr_Y = get_tr_data(1234)\r\n",
        "tr_datasets, vl_datasets = make_fold(tr_X, tr_Y)\r\n",
        "\r\n",
        "aux, real = models[0].predict(vl_datasets[0])\r\n",
        "print(f\"aux_shape: {aux.shape}\")\r\n",
        "print(f\"real_shape: {real.shape}\")"
      ],
      "execution_count": null,
      "outputs": []
    },
    {
      "cell_type": "code",
      "metadata": {
        "id": "E-NKDUSA50ms"
      },
      "source": [
        "%%time\r\n",
        "results = []\r\n",
        "seeds = [1234, 2345, 3456, 4567, 5678]\r\n",
        "\r\n",
        "for n in range(num_N):\r\n",
        "    tr_X, tr_Y = get_tr_data(SEED = seeds[n])\r\n",
        "    tr_datasets, vl_datasets = make_fold(tr_X, tr_Y)\r\n",
        "\r\n",
        "    for fold in range(K):\r\n",
        "        result = models[n * 5 + fold].predict(vl_datasets[fold])[-1]\r\n",
        "        results.append(result)\r\n",
        "\r\n",
        "        print(f\"results[{n * 5 + fold}].shape: {result.shape}\")"
      ],
      "execution_count": null,
      "outputs": []
    },
    {
      "cell_type": "markdown",
      "metadata": {
        "id": "yzofMiIg6EiM"
      },
      "source": [
        "Embedding Visualization\r\n",
        "U-Map으로 Embedding한 결과를 보여줍니다.\r\n",
        "\r\n",
        "It shows the result of Embedding with U-Map."
      ]
    },
    {
      "cell_type": "code",
      "metadata": {
        "id": "VDdr5pqh50jn"
      },
      "source": [
        "# Example Code\r\n",
        "import io\r\n",
        "import numpy as np\r\n",
        "\r\n",
        "tr_X, tr_Y = get_tr_data(1234)\r\n",
        "tr_datasets, vl_datasets = make_fold(tr_X, tr_Y)\r\n",
        "\r\n",
        "# Save test embeddings for visualization in projector\r\n",
        "# https://projector.tensorflow.org/\r\n",
        "np.savetxt(\"vecs.tsv\", results[0], delimiter = \"\\t\")\r\n",
        "\r\n",
        "out_m = io.open(\"meta.tsv\", \"w\", encoding = \"utf-8\")\r\n",
        "for img, labels in tfds.as_numpy(vl_datasets[0]):\r\n",
        "    [out_m.write(str(x) + \"\\n\") for x in labels]\r\n",
        "out_m.close()\r\n",
        "\r\n",
        "try:\r\n",
        "    from google.colab import files\r\n",
        "    files.download(\"vecs.tsv\")\r\n",
        "    files.download(\"meta.tsv\")\r\n",
        "except:\r\n",
        "    pass"
      ],
      "execution_count": null,
      "outputs": []
    },
    {
      "cell_type": "code",
      "metadata": {
        "id": "R7z09b_R50gm"
      },
      "source": [
        "from matplotlib import pyplot as plt\r\n",
        "img1 = plt.imread('./1234.png')\r\n",
        "\r\n",
        "plt.figure(figsize=(12,12))\r\n",
        "plt.imshow(img1)\r\n",
        "plt.show()"
      ],
      "execution_count": null,
      "outputs": []
    },
    {
      "cell_type": "markdown",
      "metadata": {
        "id": "5lVPuw2a6H47"
      },
      "source": [
        "10개의 클래스 각각에 대한 길이 1024짜리 특징 벡터를 생성합니다.\r\n",
        "\r\n",
        "Create a 1024-length feature vector for each of the 10 classes."
      ]
    },
    {
      "cell_type": "code",
      "metadata": {
        "id": "nKxob7II50eg"
      },
      "source": [
        "%%time\r\n",
        "import numpy as np\r\n",
        "\r\n",
        "enrollment_templates = []\r\n",
        "\r\n",
        "for n in range(num_N):\r\n",
        "    tr_X, tr_Y = get_tr_data(SEED = seeds[n])\r\n",
        "    tr_datasets, vl_datasets = make_fold(tr_X, tr_Y)\r\n",
        "\r\n",
        "    for fold in range(K):\r\n",
        "        vl_labels_list = []\r\n",
        "\r\n",
        "        for _, labels in tfds.as_numpy(vl_datasets[fold]):\r\n",
        "            vl_labels_list.append(labels)\r\n",
        "        \r\n",
        "        vl_labels = tf.concat(vl_labels_list, axis = 0)\r\n",
        "\r\n",
        "        enrollment_template = np.array(\r\n",
        "            [np.average(results[n * 5 + fold][vl_labels.numpy() == i], axis = 0) for i in range(10)])\r\n",
        "\r\n",
        "        enrollment_templates.append(enrollment_template)\r\n",
        "        print(f\"enrollment_templates[{n * 5 + fold}].shape: {enrollment_template.shape}\")"
      ],
      "execution_count": null,
      "outputs": []
    },
    {
      "cell_type": "markdown",
      "metadata": {
        "id": "-Nqejo8L6LSH"
      },
      "source": [
        "Predict Test Dataset\r\n",
        "테스트 데이터 셋의 클래스를 결정하는 방법은, 해당 feature와의 유사도가 가장 높은 대표값을 찾으면 됩니다.\r\n",
        "\r\n",
        "이때 \"가장 유사하다\"의 정의는 \"L2 거리(유클리디언 거리)\"이지만, 필요에 따라 Cosine Similarity, L1 Distance, Pearson Cross Correlation 등도 사용될 수 있습니다.\r\n",
        "\r\n",
        "다만 Triplet Loss 내부에서 거리함수가 L2로 정의되어 있기 때문에, L2를 사용하였습니다.\r\n",
        "\r\n",
        "The method of determining the class of the test data set is to find the representative value with the highest similarity to the feature.\r\n",
        "\r\n",
        "Here, the definition of \"most similar\" is \"L2 distance (Euclidean distance)\", but Cosine Similarity, L1 Distance, Pearson Cross Correlation, etc. can also be used if necessary.\r\n",
        "\r\n",
        "However, since the distance function is defined as L2 inside the Triplet Loss, L2 was used."
      ]
    },
    {
      "cell_type": "code",
      "metadata": {
        "id": "LD0DIQZ_50bg"
      },
      "source": [
        "ts_X = get_ts_data()\r\n",
        "ts_dataset = make_dataset(ts_X, None, \"test\")\r\n",
        "print(f\"ts_dataset: {ts_dataset}\")"
      ],
      "execution_count": null,
      "outputs": []
    },
    {
      "cell_type": "code",
      "metadata": {
        "id": "9DfHZn9150Yp"
      },
      "source": [
        "%%time\r\n",
        "features = []\r\n",
        "\r\n",
        "for n in range(num_N):\r\n",
        "    for fold in range(K):\r\n",
        "        feature = models[n * 5 + fold].predict(ts_dataset)[-1]\r\n",
        "        features.append(feature)\r\n",
        "        \r\n",
        "        print(f\"features[{n * 5 + fold}].shape: {feature.shape}\")"
      ],
      "execution_count": null,
      "outputs": []
    },
    {
      "cell_type": "markdown",
      "metadata": {
        "id": "-SB4gfbU6PZU"
      },
      "source": [
        "Calculate Each Predictions based on Euclidena Distance\r\n",
        "L2 거리를 계산하는 함수 l2_dist()를 선언하고, test dataset의 각 feature마다 10개의 모든 클래스의 enrollment template 사이의 거리를 계산합니다.\r\n",
        "\r\n",
        "이때 결괏값을 모으는 방법에 대해 3가지를 실험해 보았습니다.\r\n",
        "\r\n",
        "각 sub-model마다 test dataset에 대한 클래스를 결정 후 Voting (가장 많은 투표를 받은 클래스를 최종 선정)\r\n",
        "각 sub-model마다 계산된 거리를 모두 더해주고, 그 값이 가장 낮은 클래스를 최종 선정\r\n",
        "각 sub-model마다 계산된 거리를 \"정규화 한 뒤\" 모두 더해주고, 그 값이 가장 낮은 클래스를 최종 선정\r\n",
        "결과적으로는 3번이 가장 좋았습니다. 어떤 클래스가 \"얼만큼\" 유사도가 높았는지에 대한 세밀한 계산이 보다 준수한 실험 결과로 이어진 것 같습니다.\r\n",
        "\r\n",
        "We declare a function l2_dist() that calculates the L2 distance, and calculate the distance between the enrollment templates of all 10 classes for each feature in the test dataset.\r\n",
        "\r\n",
        "At this time, I experimented with three methods of collecting the results.\r\n",
        "\r\n",
        "Voting after determining the class for the test dataset for each sub-model (final selection of the class that received the most votes)\r\n",
        "Add all the calculated distances for each sub-model, and finally select the class with the lowest value.\r\n",
        "After \"normalizing\" the calculated distance for each sub-model, add them all, and finally select the class with the lowest value.\r\n",
        "As a result, number 2 was the best. The detailed calculation of which classes were \"how much\" similarity seems to have led to more thorough experimental results."
      ]
    },
    {
      "cell_type": "code",
      "metadata": {
        "id": "dAEeusXK50V0"
      },
      "source": [
        "%%time\r\n",
        "def l2_dist(A, B):\r\n",
        "    return np.linalg.norm(A - B)\r\n",
        "\r\n",
        "l2_distances = []\r\n",
        "\r\n",
        "for n in range(num_N):\r\n",
        "    for fold in range(K):\r\n",
        "        l2_distance = np.array([[l2_dist(feature, e) for e in enrollment_templates[n * 5 + fold]] for feature in features[n * 5 + fold]])\r\n",
        "        l2_distances.append(l2_distance / np.expand_dims(np.sum(l2_distance, axis = 1), 1))\r\n",
        "        \r\n",
        "        print(f\"l2_distances[{n * 5 + fold}].shape: {l2_distance.shape}\")"
      ],
      "execution_count": null,
      "outputs": []
    },
    {
      "cell_type": "code",
      "metadata": {
        "id": "5fE1F18C50TM"
      },
      "source": [
        "# Show the distances -> seems to be class 6 (mininum class)\r\n",
        "l2_distances[0][0] "
      ],
      "execution_count": null,
      "outputs": []
    },
    {
      "cell_type": "code",
      "metadata": {
        "id": "i5t9Xb9450QY"
      },
      "source": [
        "l2_distances = np.array(l2_distances)\r\n",
        "print(l2_distances.shape)"
      ],
      "execution_count": null,
      "outputs": []
    },
    {
      "cell_type": "code",
      "metadata": {
        "id": "mHTkVzhj50No"
      },
      "source": [
        "l2_distances = np.sum(l2_distances, axis = 0)\r\n",
        "l2_pred = np.expand_dims(np.argmin(l2_distances, axis = -1), axis = -1)\r\n",
        "print(l2_pred.shape)"
      ],
      "execution_count": null,
      "outputs": []
    },
    {
      "cell_type": "markdown",
      "metadata": {
        "id": "I07mY-uo6Wf2"
      },
      "source": [
        "Make Submission"
      ]
    },
    {
      "cell_type": "code",
      "metadata": {
        "id": "f7MQ9fSu50LG"
      },
      "source": [
        "import pandas as pd\r\n",
        "\r\n",
        "# to csv\r\n",
        "submission = pd.read_csv(\"/content/drive/My Drive/dacon/컴퓨터 비전 학습 경진대회/data/submission.csv\", index_col = 0)\r\n",
        "submission.loc[:, :] = l2_pred\r\n",
        "submission.to_csv(f\"/content/drive/My Drive/dacon/컴퓨터 비전 학습 경진대회/try122_submission.csv\")"
      ],
      "execution_count": null,
      "outputs": []
    },
    {
      "cell_type": "markdown",
      "metadata": {
        "id": "dYw3LRYD6brE"
      },
      "source": [
        "Result\r\n",
        "Public LB Score: 0.95098 (rank 9)\r\n",
        "\r\n",
        "Private LB Score: 0.93889 (rank 1)"
      ]
    }
  ]
}
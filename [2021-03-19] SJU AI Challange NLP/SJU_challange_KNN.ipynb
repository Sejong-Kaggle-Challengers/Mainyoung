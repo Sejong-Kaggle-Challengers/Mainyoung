{
  "nbformat": 4,
  "nbformat_minor": 0,
  "metadata": {
    "accelerator": "GPU",
    "colab": {
      "name": "SJU_challange_KNN.ipynb",
      "provenance": []
    },
    "kernelspec": {
      "display_name": "Python 3",
      "name": "python3"
    },
    "language_info": {
      "name": "python"
    }
  },
  "cells": [
    {
      "cell_type": "code",
      "metadata": {
        "colab": {
          "base_uri": "https://localhost:8080/"
        },
        "id": "oVSUAqd5urxd",
        "outputId": "b856e1f3-0d14-4c95-8f37-d64efd188887"
      },
      "source": [
        "from google.colab import drive\n",
        "drive.mount('/content/drive')"
      ],
      "execution_count": null,
      "outputs": [
        {
          "output_type": "stream",
          "text": [
            "Mounted at /content/drive\n"
          ],
          "name": "stdout"
        }
      ]
    },
    {
      "cell_type": "code",
      "metadata": {
        "id": "Pv2o5ECluswR"
      },
      "source": [
        "import pandas as pd\n",
        "import numpy as np\n",
        "train = pd.read_csv('/content/drive/MyDrive/캐글스터디/SJU_challange_NLP/train.csv')\n",
        "test= pd.read_csv('/content/drive/MyDrive/캐글스터디/SJU_challange_NLP/test.csv')"
      ],
      "execution_count": null,
      "outputs": []
    },
    {
      "cell_type": "code",
      "metadata": {
        "id": "lLpY1waout6r"
      },
      "source": [
        "train=train.dropna()\n",
        "\n",
        "X=train.loc[:,'Text']\n",
        "y = train.loc[:,'Label']\n",
        "test = test.loc[:,'Text']\n",
        "#train"
      ],
      "execution_count": null,
      "outputs": []
    },
    {
      "cell_type": "code",
      "metadata": {
        "id": "0EvJuY9EuwQq"
      },
      "source": [
        "from sklearn.feature_extraction.text import TfidfVectorizer\n",
        "vec = TfidfVectorizer()\n",
        "X_train = vec.fit_transform(X)\n",
        "#X_train = vec.transform(X_train)\n",
        "test = vec.transform(test)"
      ],
      "execution_count": null,
      "outputs": []
    },
    {
      "cell_type": "code",
      "metadata": {
        "id": "0spg5iOmuzI5"
      },
      "source": [
        "from sklearn.model_selection import train_test_split\n",
        "X_train, X_test,y_train,y_test = train_test_split(X_train,y,test_size=0.2, random_state=42)"
      ],
      "execution_count": null,
      "outputs": []
    },
    {
      "cell_type": "code",
      "metadata": {
        "colab": {
          "base_uri": "https://localhost:8080/"
        },
        "id": "TbvGPyLsu1Kt",
        "outputId": "1a61b7a5-f6ab-4e25-913c-f31e49237377"
      },
      "source": [
        "from sklearn.neighbors import KNeighborsClassifier\n",
        "\n",
        "knn = KNeighborsClassifier(n_neighbors=3, p=2)\n",
        "knn.fit(X_train, y_train)"
      ],
      "execution_count": 12,
      "outputs": [
        {
          "output_type": "execute_result",
          "data": {
            "text/plain": [
              "KNeighborsClassifier(algorithm='auto', leaf_size=30, metric='minkowski',\n",
              "                     metric_params=None, n_jobs=None, n_neighbors=3, p=2,\n",
              "                     weights='uniform')"
            ]
          },
          "metadata": {
            "tags": []
          },
          "execution_count": 12
        }
      ]
    },
    {
      "cell_type": "code",
      "metadata": {
        "id": "VWx3mbg-vjc3"
      },
      "source": [
        "y_train_pred = knn.predict(X_train)"
      ],
      "execution_count": 13,
      "outputs": []
    },
    {
      "cell_type": "code",
      "metadata": {
        "colab": {
          "base_uri": "https://localhost:8080/"
        },
        "id": "zOYnvWA8v2jm",
        "outputId": "879f4ca5-d598-47c0-9c69-4fc1fe46187e"
      },
      "source": [
        "from sklearn import metrics\n",
        "metrics.confusion_matrix(y_train,y_train_pred)"
      ],
      "execution_count": 14,
      "outputs": [
        {
          "output_type": "execute_result",
          "data": {
            "text/plain": [
              "array([[23666, 53981],\n",
              "       [ 1359, 76305]])"
            ]
          },
          "metadata": {
            "tags": []
          },
          "execution_count": 14
        }
      ]
    },
    {
      "cell_type": "code",
      "metadata": {
        "colab": {
          "base_uri": "https://localhost:8080/"
        },
        "id": "DhSBgjp91QU6",
        "outputId": "9befb2a7-114d-43d2-c852-840842b4702a"
      },
      "source": [
        "print(metrics.accuracy_score(y_train,y_train_pred))"
      ],
      "execution_count": 15,
      "outputs": [
        {
          "output_type": "stream",
          "text": [
            "0.6436826754061207\n"
          ],
          "name": "stdout"
        }
      ]
    },
    {
      "cell_type": "code",
      "metadata": {
        "id": "_8yLr77bvwW2"
      },
      "source": [
        "y_test_pred = knn.predict(X_test)"
      ],
      "execution_count": null,
      "outputs": []
    },
    {
      "cell_type": "code",
      "metadata": {
        "id": "MsKTX2e0u1BK"
      },
      "source": [
        "from sklearn import metrics\n",
        "print(metrics.accuracy_score(y_train,y_train_pred))\n",
        "print(metrics.accuracy_score(y_test,y_test_pred))"
      ],
      "execution_count": null,
      "outputs": []
    },
    {
      "cell_type": "code",
      "metadata": {
        "id": "Chr7t5_Iu1pz"
      },
      "source": [
        "metrics.confusion_matrix(y_test,y_test_pred)"
      ],
      "execution_count": null,
      "outputs": []
    },
    {
      "cell_type": "code",
      "metadata": {
        "id": "keEwdIZ3u4O_"
      },
      "source": [
        "submit = pd.read_csv('/content/drive/MyDrive/캐글스터디/SJU_challange_NLP/sample_submission.csv')"
      ],
      "execution_count": null,
      "outputs": []
    },
    {
      "cell_type": "code",
      "metadata": {
        "id": "2XZBplVdu5Q_"
      },
      "source": [
        "submit['Label'] = svm.predict(test)\n",
        "submit.head(50)"
      ],
      "execution_count": null,
      "outputs": []
    },
    {
      "cell_type": "code",
      "metadata": {
        "id": "T0xznxSju6cE"
      },
      "source": [
        "submit.to_csv('/content/drive/MyDrive/캐글스터디/SJU_challange_NLP/submission_KNN.csv',index=False)"
      ],
      "execution_count": null,
      "outputs": []
    }
  ]
}